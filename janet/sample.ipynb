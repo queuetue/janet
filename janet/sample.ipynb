{
 "cells": [
  {
   "cell_type": "markdown",
   "id": "172ee9d4",
   "metadata": {},
   "source": [
    "# Janet Notebook Demo\n",
    "\n",
    "This notebook demonstrates using **Janet** to render, validate, and execute declarative lifecycle \"Plans\".\n",
    "\n",
    "> Think **Terraform for task lifecycles and communication.**\n"
   ]
  },
  {
   "cell_type": "code",
   "execution_count": 1,
   "id": "8329fe8e",
   "metadata": {},
   "outputs": [
    {
     "name": "stdout",
     "output_type": "stream",
     "text": [
      "usage: janet [-h] {render,validate,execute} ...\n",
      "\n",
      "Janet CLI for plan operations\n",
      "\n",
      "positional arguments:\n",
      "  {render,validate,execute}\n",
      "    render              Render a plan\n",
      "    validate            Validate a plan against the schema\n",
      "    execute             Execute a plan\n",
      "\n",
      "options:\n",
      "  -h, --help            show this help message and exit\n"
     ]
    }
   ],
   "source": [
    "!janet --help\n"
   ]
  }
 ],
 "metadata": {
  "kernelspec": {
   "display_name": "venv",
   "language": "python",
   "name": "python3"
  },
  "language_info": {
   "codemirror_mode": {
    "name": "ipython",
    "version": 3
   },
   "file_extension": ".py",
   "mimetype": "text/x-python",
   "name": "python",
   "nbconvert_exporter": "python",
   "pygments_lexer": "ipython3",
   "version": "3.13.5"
  }
 },
 "nbformat": 4,
 "nbformat_minor": 5
}
